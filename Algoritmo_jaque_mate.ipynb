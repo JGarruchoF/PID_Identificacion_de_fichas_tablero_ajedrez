{
 "cells": [
  {
   "cell_type": "code",
   "execution_count": 1,
   "metadata": {},
   "outputs": [],
   "source": [
    "import numpy as np\n",
    "import copy"
   ]
  },
  {
   "cell_type": "code",
   "execution_count": 2,
   "metadata": {},
   "outputs": [],
   "source": [
    "not_check_mate_t = np.array([[1,2,3,4,0,3,2,1],\n",
    "                    [6,6,6,6,6,6,6,6],\n",
    "                    [0,0,0,0,0,0,0,0],\n",
    "                    [0,7,0,0,5,0,0,0],\n",
    "                    [0,0,0,0,0,0,0,0],\n",
    "                    [0,9,0,0,7,0,8,0],\n",
    "                    [12,12,12,12,0,12,12,12],\n",
    "                    [0,8,0,10,11,9,0,0]])"
   ]
  },
  {
   "cell_type": "code",
   "execution_count": 3,
   "metadata": {},
   "outputs": [],
   "source": [
    "check_mate_t =  np.array([[1,2,3,4,0,3,2,1],\n",
    "                    [6,6,6,6,6,6,6,6],\n",
    "                    [0,0,0,0,0,0,0,0],\n",
    "                    [0,7,0,0,5,0,12,0],\n",
    "                    [0,0,0,0,0,0,0,0],\n",
    "                    [0,9,0,0,7,0,8,0],\n",
    "                    [12,12,12,12,0,12,12,12],\n",
    "                    [0,8,0,10,11,9,0,0]])"
   ]
  },
  {
   "cell_type": "code",
   "execution_count": 4,
   "metadata": {},
   "outputs": [],
   "source": [
    "initial_t = np.array([[1,2,3,4,5,3,2,1],\n",
    "                    [6,6,6,6,6,6,6,6],\n",
    "                    [0,0,0,0,0,0,0,0],\n",
    "                    [0,0,0,0,0,0,0,0],\n",
    "                    [0,0,0,0,0,0,0,0],\n",
    "                    [0,0,0,0,0,0,0,0],\n",
    "                    [12,12,12,12,12,12,12,12],\n",
    "                    [7,8,9,10,11,9,8,7]])"
   ]
  },
  {
   "cell_type": "code",
   "execution_count": 5,
   "metadata": {},
   "outputs": [],
   "source": [
    "def kings(t, side):\n",
    "    k = 5 if side == \"white\" else 11\n",
    "    pos = tuple(map(lambda x: x[0] if x.size >0 else -1, np.where(t == k)))\n",
    "        \n",
    "    if pos[0] < 0 or pos[0] < 0:\n",
    "        return None\n",
    "        \n",
    "    return pos"
   ]
  },
  {
   "cell_type": "code",
   "execution_count": 6,
   "metadata": {},
   "outputs": [
    {
     "data": {
      "text/plain": [
       "(array([], dtype=int64), array([], dtype=int64))"
      ]
     },
     "execution_count": 6,
     "metadata": {},
     "output_type": "execute_result"
    }
   ],
   "source": [
    "np.where(initial_t == 22)"
   ]
  },
  {
   "cell_type": "code",
   "execution_count": 7,
   "metadata": {},
   "outputs": [],
   "source": [
    "def is_check(t, side):\n",
    "    res = False\n",
    "    i = 0 if side == \"white\" else 1\n",
    "    king = kings(t,side)\n",
    "    #print(king)\n",
    "    if king:\n",
    "        if check_rook(t,king, side):\n",
    "            #print(\"Check \",side,\" king by rook\")\n",
    "            res = True\n",
    "        if check_knight(t, king, side):\n",
    "            #print(\"Check \",side,\" king by knight\")\n",
    "            res = True\n",
    "        if check_bishop(t, king, side):\n",
    "            #print(\"Check \",side,\" king by bishop\")\n",
    "            res = True\n",
    "        if check_queen(t, king, side):\n",
    "            #print(\"Check \",side,\" king by queen\")\n",
    "            res = True\n",
    "        if check_king(t, king, side):\n",
    "            #print(\"Check \",side,\" king by king\")\n",
    "            res = True\n",
    "        if check_pawn(t, king, side):\n",
    "            #print(\"Check \",side,\" king by pawn\")\n",
    "            res = True\n",
    "    else:\n",
    "        res = True\n",
    "    return res"
   ]
  },
  {
   "cell_type": "code",
   "execution_count": 8,
   "metadata": {},
   "outputs": [],
   "source": [
    "def valid_pos(pos):\n",
    "    return pos[0]>=0 and pos[1]>=0 and pos[0]<8 and pos[1]<8"
   ]
  },
  {
   "cell_type": "code",
   "execution_count": 9,
   "metadata": {},
   "outputs": [],
   "source": [
    "def check_rook(t, king, side, k=None): #k=None util para calcular jaque de reina\n",
    "    if not k:\n",
    "        k = 7 if side == \"white\" else 1\n",
    "    res = False\n",
    "    for sq in t[king[0]+1:,king[1]]: # down\n",
    "        if sq != 0:\n",
    "            if sq == k:\n",
    "                #print(\"down\")\n",
    "                res =  True\n",
    "                break\n",
    "    for sq in np.flip(t[:king[0],king[1]], 0): # up\n",
    "        if sq != 0:\n",
    "            if sq == k:\n",
    "                #print(\"up\")\n",
    "                res =  True\n",
    "                break\n",
    "    for sq in t[king[0],king[1]+1:]: # right\n",
    "        if sq != 0:\n",
    "            if sq == k:\n",
    "                #print(\"right\")\n",
    "                res =  True\n",
    "                break\n",
    "    for sq in np.flip(t[king[0],:king[1]], 0): # left\n",
    "        if sq != 0:\n",
    "            if sq == k:\n",
    "                #print(\"left\")\n",
    "                res =  True\n",
    "                break\n",
    "                \n",
    "    return res"
   ]
  },
  {
   "cell_type": "code",
   "execution_count": 10,
   "metadata": {},
   "outputs": [],
   "source": [
    "def knight_moves_coor(pos):\n",
    "    res = []\n",
    "    for x in [-2,2]:\n",
    "        for y in [-1,1]:\n",
    "            if valid_pos((pos[0]+x, pos[1]+y)):\n",
    "                res.append((pos[0]+x,pos[1]+y))\n",
    "    for x in [-1,1]:\n",
    "        for y in [-2,2]:\n",
    "            if valid_pos((pos[0]+x, pos[1]+y)):\n",
    "                res.append((pos[0]+x,pos[1]+y))\n",
    "    return res\n",
    "            \n",
    "\n",
    "def check_knight(t, king, side):\n",
    "    k = 9 if side == \"white\" else 3\n",
    "    res = False\n",
    "    for i,j in knight_moves_coor(king):\n",
    "        sq = t[i,j]\n",
    "        if sq == k:\n",
    "            res = True\n",
    "            break\n",
    "    \n",
    "    return res"
   ]
  },
  {
   "cell_type": "code",
   "execution_count": 11,
   "metadata": {},
   "outputs": [],
   "source": [
    "def check_bishop(t, pos, side, k=None):\n",
    "    if not k:\n",
    "        k = 8 if side == \"white\" else 2 # 2 si se buscan blancas y 8 si se buscan negras\n",
    "    res = False\n",
    "    a = False\n",
    "    b = False\n",
    "    c = False\n",
    "    d = False\n",
    "    i = 1\n",
    "    while(not a or not b or not c or not d):\n",
    "        if not valid_pos((pos[0]+i, pos[1]+i)):\n",
    "            a = True\n",
    "        if not a and t[pos[0]+i,pos[1]+i] != 0:\n",
    "            if t[pos[0]+i,pos[1]+i] == k:\n",
    "                res = True\n",
    "                break\n",
    "            else:\n",
    "                a = True\n",
    "                \n",
    "        if not valid_pos((pos[0]-i, pos[1]+i)):\n",
    "            b = True\n",
    "        if not b and t[pos[0]-i,pos[1]+i] != 0:\n",
    "            if t[pos[0]-i,pos[1]+i] == k:\n",
    "                res = True\n",
    "                break\n",
    "            else:\n",
    "                b = True\n",
    "                \n",
    "        if not valid_pos((pos[0]-i, pos[1]-i)):\n",
    "            c = True\n",
    "        if not c and t[pos[0]-i,pos[1]-i] != 0:\n",
    "            if t[pos[0]-i,pos[1]-i] == k:\n",
    "                res = True\n",
    "                break\n",
    "            else:\n",
    "                c = True\n",
    "                \n",
    "        if not valid_pos((pos[0]+i, pos[1]-i)):\n",
    "            d = True\n",
    "        if not d and t[pos[0]+1,pos[1]-i] != 0:\n",
    "            if t[pos[0]+1,pos[1]-i] == k:\n",
    "                res = True\n",
    "                break\n",
    "            else:\n",
    "                d = True\n",
    "        i += 1\n",
    "        \n",
    "    return res\n",
    "            \n",
    "            "
   ]
  },
  {
   "cell_type": "code",
   "execution_count": 12,
   "metadata": {},
   "outputs": [],
   "source": [
    "def check_queen(t, pos, side):\n",
    "    k = 10 if side == \"white\" else 4 # 4 si se buscan blancas y 10 si se buscan negras\n",
    "    \n",
    "    return check_rook(t,pos,side,k=k) or check_bishop(t,pos,side,k=k)"
   ]
  },
  {
   "cell_type": "code",
   "execution_count": 13,
   "metadata": {},
   "outputs": [],
   "source": [
    "def check_king(t, pos, side):\n",
    "    k = 11 if side == \"white\" else 5\n",
    "    for x,y in [(-1,-1),(-1,0),(-1,1),(0,-1),(0,1),(1,-1),(1,0),(1,1)]:\n",
    "        if valid_pos((pos[0]+x, pos[1]+y)):\n",
    "            if t[pos[0]+x, pos[1]+y] != 0:\n",
    "                if t[pos[0]+x, pos[1]+y] == k:\n",
    "                    return True\n",
    "                \n",
    "    return False"
   ]
  },
  {
   "cell_type": "code",
   "execution_count": 14,
   "metadata": {},
   "outputs": [],
   "source": [
    "def check_pawn(t, pos, side):\n",
    "    k = 12 if side == \"white\" else 6\n",
    "    x = 1 if side == \"white\" else -1\n",
    "    for y in [-1, 1]:\n",
    "        if valid_pos((pos[0]+x,pos[1]+y)):\n",
    "            if t[pos[0]+x,pos[1]+y] == k:\n",
    "                return True\n",
    "    return False"
   ]
  },
  {
   "cell_type": "code",
   "execution_count": 15,
   "metadata": {},
   "outputs": [],
   "source": [
    "def rook_moves(t, pos):\n",
    "    i,j = pos\n",
    "    p = t[i,j]\n",
    "    side = \"white\" if p < 7 else \"black\"\n",
    "    res = []\n",
    "    wd = [True,True,True,True]\n",
    "    k = 1\n",
    "    while(any(wd)):\n",
    "        for w,(x,y) in enumerate([(i+k, j),(i-k, j),(i, j+k),(i, j-k)]):\n",
    "            if wd[w] and valid_pos((x,y)) and (t[x,y] == 0 or (side == \"white\" and t[x,y] > 6) or (side == \"black\" and t[x,y] < 7)):\n",
    "                if t[x,y] != 0:\n",
    "                    wd[w] = False\n",
    "                s = copy.copy(t)\n",
    "                s[i,j] = 0\n",
    "                s[x,y] = p\n",
    "                res.append(s)\n",
    "            else:\n",
    "                wd[w] = False \n",
    "                    \n",
    "        k += 1\n",
    "        \n",
    "    return res"
   ]
  },
  {
   "cell_type": "code",
   "execution_count": 16,
   "metadata": {},
   "outputs": [],
   "source": [
    "def bishop_moves(t, pos):\n",
    "    i,j = pos\n",
    "    p = t[i,j]\n",
    "    side = \"white\" if p < 7 else \"black\"\n",
    "    res = []\n",
    "    wd = [True,True,True,True]\n",
    "    k = 1\n",
    "    while(any(wd)):\n",
    "        for w,(x,y) in enumerate([(i+k, j+k),(i-k, j+k),(i+k, j-k),(i-k, j-k)]):\n",
    "            if wd[w] and valid_pos((x,y)) and (t[x,y] == 0 or (side == \"white\" and t[x,y] > 6) or (side == \"black\" and t[x,y] < 7)):\n",
    "                if t[x,y] != 0:\n",
    "                    wd[w] = False\n",
    "                s = copy.copy(t)\n",
    "                s[i,j] = 0\n",
    "                s[x,y] = p\n",
    "                res.append(s)\n",
    "            else:\n",
    "                wd[w] = False \n",
    "                    \n",
    "        k += 1\n",
    "        \n",
    "    return res"
   ]
  },
  {
   "cell_type": "code",
   "execution_count": 17,
   "metadata": {},
   "outputs": [],
   "source": [
    "def knight_moves(t, pos):\n",
    "    i,j = pos\n",
    "    p = t[i,j]\n",
    "    side = \"white\" if p < 7 else \"black\"\n",
    "    res = []\n",
    "    for x,y in knight_moves_coor(pos):\n",
    "        if t[x,y] == 0 or (side == \"white\" and t[x,y] > 6) or (side == \"black\" and t[x,y] < 7):\n",
    "            s = copy.copy(t)\n",
    "            s[i,j] = 0\n",
    "            s[x,y] = p\n",
    "            res.append(s)\n",
    "            \n",
    "    return res"
   ]
  },
  {
   "cell_type": "code",
   "execution_count": 18,
   "metadata": {},
   "outputs": [],
   "source": [
    "def queen_moves(t,pos):\n",
    "    res = []\n",
    "    r_m = rook_moves(t,pos)\n",
    "    if r_m: \n",
    "        res.append(r_m)\n",
    "        \n",
    "    b_m = bishop_moves(t,pos)\n",
    "    if b_m: \n",
    "        res.append(b_m)\n",
    "    return res"
   ]
  },
  {
   "cell_type": "code",
   "execution_count": 19,
   "metadata": {},
   "outputs": [],
   "source": [
    "def king_moves(t,pos):\n",
    "    res = []\n",
    "    i,j = pos\n",
    "    p = t[i,j]\n",
    "    side = \"white\" if p < 7 else \"black\"\n",
    "    for x,y in [(i-1,j-1),(i-1,j),(i-1,j+1),(i,j-1),(i,j+1),(i+1,j-1),(i+1,j),(i+1,j+1)]:\n",
    "        if valid_pos((x,y)):\n",
    "            if t[x,y] == 0 or (side == \"white\" and t[x,y] > 6) or (side == \"black\" and t[x,y] < 7):\n",
    "                s = copy.copy(t)\n",
    "                s[i,j] = 0\n",
    "                s[x,y] = p\n",
    "                res.append(s)\n",
    "    return res\n",
    "            "
   ]
  },
  {
   "cell_type": "code",
   "execution_count": 20,
   "metadata": {},
   "outputs": [],
   "source": [
    "def pawn_moves(t, pos):\n",
    "    res = []\n",
    "    i,j = pos\n",
    "    p = t[i,j]\n",
    "    side = \"white\" if p < 7 else \"black\"\n",
    "    \n",
    "    k = 1 if side == \"white\" else -1\n",
    "    x = i + k\n",
    "    \n",
    "    if t[x, j] == 0:\n",
    "        s = copy.copy(t)\n",
    "        s[i,j] = 0\n",
    "        s[x,j] = p\n",
    "        res.append(s)\n",
    "\n",
    "        if ((i == 1 and side == \"white\") or (i==6 and side == \"black\")) and t[x+k, j] == 0: # salida del peon\n",
    "            s = copy.copy(t)\n",
    "            s[i,j] = 0\n",
    "            s[x+k,j] = p\n",
    "            res.append(s)\n",
    "        \n",
    "    \n",
    "    for y in [j-1, j+1]:\n",
    "        if valid_pos((x,y)) and (t[x,y] != 0) and ((side == \"white\" and t[x,y] > 6) or (side == \"black\" and t[x,y] < 7)):\n",
    "                s = copy.copy(t)\n",
    "                s[i,j] = 0\n",
    "                s[x,y] = p\n",
    "                res.append(s)\n",
    "    return res"
   ]
  },
  {
   "cell_type": "code",
   "execution_count": 21,
   "metadata": {},
   "outputs": [],
   "source": [
    "switcher = {1:rook_moves, 2:bishop_moves, 3: knight_moves, 4: queen_moves, 5: king_moves, 6:pawn_moves}\n",
    "\n",
    "def possible_moves(t, side):\n",
    "    res = []\n",
    "    k = 0 if side == \"white\" else 6\n",
    "    for i in range(8):\n",
    "        for j in range(8):\n",
    "            sq = t[i,j]\n",
    "            if sq != 0 and sq > k and sq < k+7:\n",
    "                moves = switcher[(((sq-1)%6) + 1) ](t,(i,j))\n",
    "                if moves:\n",
    "                    res += moves\n",
    "            \n",
    "    return res"
   ]
  },
  {
   "cell_type": "code",
   "execution_count": 22,
   "metadata": {},
   "outputs": [],
   "source": [
    "def is_check_mate(t, side):\n",
    "    check = is_check(t, side)\n",
    "    mate = True\n",
    "    if check:\n",
    "        for m in possible_moves(t,side):\n",
    "            if not is_check(m, side):\n",
    "                print(m)\n",
    "                mate = False\n",
    "                break\n",
    "            #print(m)\n",
    "\n",
    "    return check and mate\n",
    "\n",
    "        "
   ]
  },
  {
   "cell_type": "code",
   "execution_count": 23,
   "metadata": {},
   "outputs": [],
   "source": [
    "def check_mate(t):\n",
    "    for side in [\"white\", \"black\"]:\n",
    "        if is_check_mate(t, side):\n",
    "            print(\"check mate\", side, \"king\")\n",
    "        else:\n",
    "            print(\"not check mate for\", side, \"king\")\n",
    "\n",
    "        "
   ]
  },
  {
   "cell_type": "code",
   "execution_count": 29,
   "metadata": {},
   "outputs": [
    {
     "name": "stdout",
     "output_type": "stream",
     "text": [
      "not check mate for white king\n",
      "not check mate for black king\n"
     ]
    }
   ],
   "source": [
    "check_mate(initial_t)"
   ]
  },
  {
   "cell_type": "code",
   "execution_count": 27,
   "metadata": {},
   "outputs": [
    {
     "name": "stdout",
     "output_type": "stream",
     "text": [
      "check mate white king\n",
      "not check mate for black king\n"
     ]
    }
   ],
   "source": [
    "check_mate(check_mate_t)"
   ]
  },
  {
   "cell_type": "code",
   "execution_count": 28,
   "metadata": {},
   "outputs": [
    {
     "name": "stdout",
     "output_type": "stream",
     "text": [
      "[[ 1  2  3  4  0  3  2  1]\n",
      " [ 6  6  6  6  6  6  6  6]\n",
      " [ 0  0  0  0  0  5  0  0]\n",
      " [ 0  7  0  0  0  0  0  0]\n",
      " [ 0  0  0  0  0  0  0  0]\n",
      " [ 0  9  0  0  7  0  8  0]\n",
      " [12 12 12 12  0 12 12 12]\n",
      " [ 0  8  0 10 11  9  0  0]]\n",
      "not check mate for white king\n",
      "not check mate for black king\n"
     ]
    }
   ],
   "source": [
    "check_mate(not_check_mate_t)"
   ]
  }
 ],
 "metadata": {
  "kernelspec": {
   "display_name": "PID",
   "language": "python",
   "name": "pid"
  },
  "language_info": {
   "codemirror_mode": {
    "name": "ipython",
    "version": 3
   },
   "file_extension": ".py",
   "mimetype": "text/x-python",
   "name": "python",
   "nbconvert_exporter": "python",
   "pygments_lexer": "ipython3",
   "version": "3.8.5"
  }
 },
 "nbformat": 4,
 "nbformat_minor": 4
}
